{
 "cells": [
  {
   "cell_type": "code",
   "execution_count": 6,
   "id": "aab9504a",
   "metadata": {},
   "outputs": [
    {
     "name": "stdout",
     "output_type": "stream",
     "text": [
      "Enter a: 5\n",
      "Enter b: 6\n",
      "The sum is 11\n"
     ]
    }
   ],
   "source": [
    "#write a program to add two numbers\n",
    "a = int(input(\"Enter a: \"))\n",
    "b = int(input(\"Enter b: \"))\n",
    "\n",
    "print(f'The sum is {a+b}')"
   ]
  },
  {
   "cell_type": "code",
   "execution_count": 7,
   "id": "16b91d5d",
   "metadata": {},
   "outputs": [
    {
     "name": "stdout",
     "output_type": "stream",
     "text": [
      "Enter c: 4\n",
      "Enter d: 5\n",
      "The sum is 9\n"
     ]
    }
   ],
   "source": [
    "c = eval(input(\"Enter c: \"))\n",
    "d = eval(input(\"Enter d: \"))\n",
    "print(f'The sum is {c+d}')"
   ]
  },
  {
   "cell_type": "code",
   "execution_count": 9,
   "id": "523323d8",
   "metadata": {},
   "outputs": [
    {
     "name": "stdout",
     "output_type": "stream",
     "text": [
      "Enter the length: 5\n",
      "Enter the breadth: 6\n",
      "The perimeter of the rectangle is 22\n",
      "The area of rectangle is 30\n"
     ]
    }
   ],
   "source": [
    "#write a program to display the perimeter and area of rectangle\n",
    "l = eval(input(\"Enter the length: \"))\n",
    "b = eval(input(\"Enter the breadth: \"))\n",
    "print(f'The perimeter of the rectangle is {2*(l+b)}')\n",
    "print(f'The area of rectangle is {l*b}')"
   ]
  },
  {
   "cell_type": "code",
   "execution_count": 10,
   "id": "efdbfcf8",
   "metadata": {},
   "outputs": [
    {
     "name": "stdout",
     "output_type": "stream",
     "text": [
      "Enter a: 3\n",
      "Enter b: 4\n",
      "Enter c: 5\n",
      "The average of the numbers is 4.0\n"
     ]
    }
   ],
   "source": [
    "#write the program to enter the 3 numbers and calculate the average of those\n",
    "a = eval(input(\"Enter a: \"))\n",
    "b = eval(input('Enter b: '))\n",
    "c = eval(input('Enter c: '))\n",
    "average  = (a+b+c)/3\n",
    "\n",
    "print(f'The average of the numbers is {average}')"
   ]
  },
  {
   "cell_type": "code",
   "execution_count": 12,
   "id": "097e9ebc",
   "metadata": {},
   "outputs": [
    {
     "name": "stdout",
     "output_type": "stream",
     "text": [
      "True\n"
     ]
    }
   ],
   "source": [
    "#control flow\n",
    "a = 5\n",
    "b = 3\n",
    "if a > b:\n",
    "    print(True)\n",
    "else:\n",
    "    print(False)\n",
    "    \n"
   ]
  },
  {
   "cell_type": "code",
   "execution_count": 14,
   "id": "a8279077",
   "metadata": {},
   "outputs": [
    {
     "name": "stdout",
     "output_type": "stream",
     "text": [
      "Enter p: 5\n",
      "Enter q: 2\n",
      "5 is greater than 2\n"
     ]
    }
   ],
   "source": [
    "p = eval(input(\"Enter p: \"))\n",
    "q = eval(input('Enter q: '))\n",
    "if p > q:\n",
    "    print(f'{p} is greater than {q}')\n",
    "    \n",
    "else:\n",
    "    print(f'{p} is lesser than {q}')"
   ]
  },
  {
   "cell_type": "code",
   "execution_count": 24,
   "id": "27184232",
   "metadata": {},
   "outputs": [
    {
     "name": "stdout",
     "output_type": "stream",
     "text": [
      "Enter p: 5\n",
      "Enter q: 6\n",
      "5 is lesser than 6\n"
     ]
    }
   ],
   "source": [
    "p = eval(input(\"Enter p: \"))\n",
    "q = eval(input(\"Enter q: \"))\n",
    "if p > q :\n",
    "    print(f'{p} is greater than {q}')\n",
    "    \n",
    "else:\n",
    "    print(f'{p} is lesser than {q}')"
   ]
  },
  {
   "cell_type": "code",
   "execution_count": 28,
   "id": "23401afc",
   "metadata": {},
   "outputs": [
    {
     "name": "stdout",
     "output_type": "stream",
     "text": [
      "Enter p4\n",
      "Enter q5\n",
      "Enter r6\n",
      "6 is the greatest\n"
     ]
    }
   ],
   "source": [
    "p = eval(input(\"Enter p\"))\n",
    "q = eval(input('Enter q'))\n",
    "r = eval(input('Enter r'))\n",
    "if p > q and p > r:\n",
    "    print(f'{p} is the greatest')\n",
    "    \n",
    "elif q > p and q > r:\n",
    "    print(f'{q} is the greatest')\n",
    "    \n",
    "else:\n",
    "    print(f'{r} is the greatest')"
   ]
  },
  {
   "cell_type": "code",
   "execution_count": 42,
   "id": "b373b252",
   "metadata": {},
   "outputs": [
    {
     "name": "stdout",
     "output_type": "stream",
     "text": [
      "Hello world\n",
      "Hello world\n",
      "Hello world\n",
      "Hello world\n",
      "Hello world\n",
      "Hello world\n"
     ]
    }
   ],
   "source": [
    "a = 0\n",
    "while a < 6:\n",
    "    print('Hello world')\n",
    "    a += 1"
   ]
  },
  {
   "cell_type": "code",
   "execution_count": 53,
   "id": "96b0d39d",
   "metadata": {},
   "outputs": [
    {
     "name": "stdout",
     "output_type": "stream",
     "text": [
      "1\n",
      "2\n",
      "3\n",
      "4\n"
     ]
    }
   ],
   "source": [
    "li = [1,2,3,4]\n",
    "for i in range(len(li)):\n",
    "    print(li[i])\n",
    "    "
   ]
  },
  {
   "cell_type": "code",
   "execution_count": 51,
   "id": "9607e14a",
   "metadata": {},
   "outputs": [
    {
     "name": "stdout",
     "output_type": "stream",
     "text": [
      "1\n",
      "2\n",
      "3\n",
      "4\n"
     ]
    }
   ],
   "source": [
    "for element in li:\n",
    "    print(element)"
   ]
  },
  {
   "cell_type": "code",
   "execution_count": 55,
   "id": "330fbd59",
   "metadata": {},
   "outputs": [
    {
     "name": "stdout",
     "output_type": "stream",
     "text": [
      "False\n"
     ]
    }
   ],
   "source": [
    "a = 5\n",
    "print(a in li)"
   ]
  },
  {
   "cell_type": "code",
   "execution_count": 58,
   "id": "45acaa7e",
   "metadata": {},
   "outputs": [
    {
     "name": "stdout",
     "output_type": "stream",
     "text": [
      "1\n",
      "2\n",
      "3\n",
      "4\n",
      "5\n",
      "6\n",
      "7\n",
      "8\n",
      "9\n",
      "11\n",
      "12\n",
      "13\n",
      "14\n",
      "15\n",
      "16\n",
      "17\n",
      "18\n",
      "19\n"
     ]
    }
   ],
   "source": [
    "for i in range(1,20):\n",
    "    if i == 10:\n",
    "        continue\n",
    "    print(i)"
   ]
  },
  {
   "cell_type": "code",
   "execution_count": 59,
   "id": "1f2ea1d2",
   "metadata": {},
   "outputs": [
    {
     "data": {
      "text/plain": [
       "'suman gole'"
      ]
     },
     "execution_count": 59,
     "metadata": {},
     "output_type": "execute_result"
    }
   ],
   "source": [
    "def PrintSuman(name, lastname):\n",
    "    return f'{name} {lastname}'\n",
    "\n",
    "PrintSuman('suman', 'gole')"
   ]
  },
  {
   "cell_type": "code",
   "execution_count": 61,
   "id": "ca19eb21",
   "metadata": {},
   "outputs": [
    {
     "name": "stdout",
     "output_type": "stream",
     "text": [
      "55\n"
     ]
    }
   ],
   "source": [
    "#write a program to add the numbers from 1 to 10 using loop\n",
    "i = 0 \n",
    "sum = 0\n",
    "while i <= 10:\n",
    "    sum += i\n",
    "    i += 1\n",
    "print(sum)\n",
    "    "
   ]
  },
  {
   "cell_type": "code",
   "execution_count": 62,
   "id": "aeb82d80",
   "metadata": {},
   "outputs": [
    {
     "name": "stdout",
     "output_type": "stream",
     "text": [
      "55\n"
     ]
    }
   ],
   "source": [
    "sum = 0\n",
    "for i in range(11):\n",
    "    sum += i\n",
    "    \n",
    "print(sum)"
   ]
  },
  {
   "cell_type": "code",
   "execution_count": 67,
   "id": "ecff2a10",
   "metadata": {},
   "outputs": [
    {
     "data": {
      "text/plain": [
       "1"
      ]
     },
     "execution_count": 67,
     "metadata": {},
     "output_type": "execute_result"
    }
   ],
   "source": [
    "numbers = [1,2,3,4,5,6,7,8,9,10]\n",
    "numbers[0]"
   ]
  },
  {
   "cell_type": "code",
   "execution_count": 68,
   "id": "71ac21ef",
   "metadata": {},
   "outputs": [
    {
     "name": "stdout",
     "output_type": "stream",
     "text": [
      "55\n"
     ]
    }
   ],
   "source": [
    "sumofnumbers = 0\n",
    "for i in numbers:\n",
    "    sumofnumbers += i\n",
    "print(sumofnumbers)"
   ]
  },
  {
   "cell_type": "code",
   "execution_count": 69,
   "id": "6a6478be",
   "metadata": {},
   "outputs": [
    {
     "name": "stdout",
     "output_type": "stream",
     "text": [
      "55\n"
     ]
    }
   ],
   "source": [
    "sumnum = 0\n",
    "for i in range(10):\n",
    "    sumnum += numbers[i]\n",
    "print(sumnum)"
   ]
  },
  {
   "cell_type": "code",
   "execution_count": 70,
   "id": "a36ce23c",
   "metadata": {},
   "outputs": [
    {
     "name": "stdout",
     "output_type": "stream",
     "text": [
      "55\n"
     ]
    }
   ],
   "source": [
    "i = 0\n",
    "sumn = 0\n",
    "while i < 10:\n",
    "    sumn += numbers[i]\n",
    "    i += 1\n",
    "print(sumn)"
   ]
  },
  {
   "cell_type": "code",
   "execution_count": null,
   "id": "6a9df8a8",
   "metadata": {},
   "outputs": [],
   "source": []
  }
 ],
 "metadata": {
  "kernelspec": {
   "display_name": "Python 3 (ipykernel)",
   "language": "python",
   "name": "python3"
  },
  "language_info": {
   "codemirror_mode": {
    "name": "ipython",
    "version": 3
   },
   "file_extension": ".py",
   "mimetype": "text/x-python",
   "name": "python",
   "nbconvert_exporter": "python",
   "pygments_lexer": "ipython3",
   "version": "3.9.7"
  }
 },
 "nbformat": 4,
 "nbformat_minor": 5
}
