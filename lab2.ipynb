{
 "cells": [
  {
   "cell_type": "code",
   "execution_count": 1,
   "id": "6f42cc35",
   "metadata": {},
   "outputs": [
    {
     "name": "stdout",
     "output_type": "stream",
     "text": [
      "373\n"
     ]
    }
   ],
   "source": [
    "class Adder:\n",
    "#     def __init__(self, *args):\n",
    "#         return \n",
    "        \n",
    "    def adder(self, *args):\n",
    "        mul = 1\n",
    "        for i in args:\n",
    "            mul += i\n",
    "        return mul\n",
    "\n",
    "    \n",
    "    \n",
    "if __name__ =='__main__':\n",
    "    \n",
    "    add1 = Adder()\n",
    "    print(add1.adder(5,67,100, 200))"
   ]
  },
  {
   "cell_type": "code",
   "execution_count": 2,
   "id": "699e4590",
   "metadata": {},
   "outputs": [
    {
     "data": {
      "text/plain": [
       "[1, 2, 3, 1, 2, 3]"
      ]
     },
     "execution_count": 2,
     "metadata": {},
     "output_type": "execute_result"
    }
   ],
   "source": [
    "# list is ordered data structure that can store multiple data with repetition \n",
    "'''Mutable data type is list. It means it can be altered or updated or changed'''\n",
    "\n",
    "l = list([1,2,3])\n",
    "# l.insert(2,10)\n",
    "l.extend(l)\n",
    "l"
   ]
  },
  {
   "cell_type": "code",
   "execution_count": 3,
   "id": "bd1c58ff",
   "metadata": {},
   "outputs": [],
   "source": [
    "dictionary = {'name': 'Sushil', \n",
    "             'address': 'Bhaktapur',\n",
    "             'roll': 58,\n",
    "             'Age': 20,\n",
    "             }"
   ]
  },
  {
   "cell_type": "code",
   "execution_count": 4,
   "id": "fa419d1b",
   "metadata": {},
   "outputs": [],
   "source": [
    "l1 = [1,2,3]\n",
    "def get_square(l):\n",
    "    for i in l:\n",
    "        yield i*i\n",
    "    \n",
    "    \n",
    "    \n",
    "result = get_square(l1)"
   ]
  },
  {
   "cell_type": "code",
   "execution_count": 5,
   "id": "bd187315",
   "metadata": {},
   "outputs": [
    {
     "name": "stdout",
     "output_type": "stream",
     "text": [
      "<generator object get_square at 0x7f112f27ef90>\n"
     ]
    }
   ],
   "source": [
    "print(result)"
   ]
  },
  {
   "cell_type": "code",
   "execution_count": 6,
   "id": "88e2f7ff",
   "metadata": {},
   "outputs": [
    {
     "name": "stdout",
     "output_type": "stream",
     "text": [
      "1\n"
     ]
    }
   ],
   "source": [
    "print(next(result))"
   ]
  },
  {
   "cell_type": "code",
   "execution_count": 7,
   "id": "6b21ffd1",
   "metadata": {},
   "outputs": [],
   "source": [
    "generator = (i*i for i in l1)"
   ]
  },
  {
   "cell_type": "code",
   "execution_count": 8,
   "id": "2cdc2ee5",
   "metadata": {},
   "outputs": [
    {
     "data": {
      "text/plain": [
       "<generator object <genexpr> at 0x7f112c16e350>"
      ]
     },
     "execution_count": 8,
     "metadata": {},
     "output_type": "execute_result"
    }
   ],
   "source": [
    "generator"
   ]
  },
  {
   "cell_type": "code",
   "execution_count": 9,
   "id": "a31a329d",
   "metadata": {},
   "outputs": [
    {
     "data": {
      "text/plain": [
       "1"
      ]
     },
     "execution_count": 9,
     "metadata": {},
     "output_type": "execute_result"
    }
   ],
   "source": [
    "generator.__next__()"
   ]
  },
  {
   "cell_type": "code",
   "execution_count": 42,
   "id": "08d51a3e",
   "metadata": {},
   "outputs": [
    {
     "data": {
      "text/plain": [
       "[0, 0, 2, 0, 4, 4, 2, 3, 1]"
      ]
     },
     "execution_count": 42,
     "metadata": {},
     "output_type": "execute_result"
    }
   ],
   "source": [
    "import numpy as np\n",
    "random =[np.random.randint(i) for i in range(1,10)]\n",
    "random"
   ]
  },
  {
   "cell_type": "code",
   "execution_count": 39,
   "id": "8fa36180",
   "metadata": {},
   "outputs": [
    {
     "data": {
      "text/plain": [
       "[0, 3]"
      ]
     },
     "execution_count": 39,
     "metadata": {},
     "output_type": "execute_result"
    }
   ],
   "source": [
    "random[0:5:3]"
   ]
  },
  {
   "cell_type": "code",
   "execution_count": 35,
   "id": "fbb86575",
   "metadata": {},
   "outputs": [
    {
     "data": {
      "text/plain": [
       "[8, 7, 0, 3, 4, 3, 1, 1, 0]"
      ]
     },
     "execution_count": 35,
     "metadata": {},
     "output_type": "execute_result"
    }
   ],
   "source": [
    "random[::-1]"
   ]
  },
  {
   "cell_type": "code",
   "execution_count": 37,
   "id": "91647e5d",
   "metadata": {},
   "outputs": [
    {
     "data": {
      "text/plain": [
       "[0, 1, 1, 3, 4, 3, 0, 7]"
      ]
     },
     "execution_count": 37,
     "metadata": {},
     "output_type": "execute_result"
    }
   ],
   "source": [
    "random[:-1]"
   ]
  },
  {
   "cell_type": "code",
   "execution_count": 48,
   "id": "7fb25414",
   "metadata": {},
   "outputs": [],
   "source": [
    "img = np.array([[0, 0 , 0],\n",
    "              [255, 0, 255],\n",
    "               [255, 0, 255],\n",
    "               [255, 0, 255]])"
   ]
  },
  {
   "cell_type": "code",
   "execution_count": 49,
   "id": "611fff77",
   "metadata": {},
   "outputs": [
    {
     "data": {
      "text/plain": [
       "<matplotlib.image.AxesImage at 0x7f10f2e99ca0>"
      ]
     },
     "execution_count": 49,
     "metadata": {},
     "output_type": "execute_result"
    },
    {
     "data": {
      "image/png": "[encoded data removed]",
      "text/plain": [
       "<Figure size 432x288 with 1 Axes>"
      ]
     },
     "metadata": {
      "needs_background": "light"
     },
     "output_type": "display_data"
    }
   ],
   "source": [
    "import matplotlib.pyplot as p\n",
    "plt.imshow(img, cmap = 'gray')"
   ]
  },
  {
   "cell_type": "code",
   "execution_count": 56,
   "id": "7b903e03",
   "metadata": {},
   "outputs": [
    {
     "name": "stdout",
     "output_type": "stream",
     "text": [
      "[5, 4, 3, 2, 1]\n"
     ]
    }
   ],
   "source": [
    "def reverse_num(arr):\n",
    "    n = len(arr)\n",
    "    for i in range(len(arr)//2):\n",
    "        temp = arr[i]\n",
    "        arr[i] = arr[n-1-i]\n",
    "        arr[n-1-i] = temp\n",
    "    return arr\n",
    "    \n",
    "    \n",
    "arr = [1,2,3,4, 5]\n",
    "print(reverse_num(arr))\n",
    "        "
   ]
  },
  {
   "cell_type": "code",
   "execution_count": 79,
   "id": "7acf1d4d",
   "metadata": {},
   "outputs": [],
   "source": [
    "a = [10,20,30,40,50]\n",
    "b = [100,200,300,400,500]\n",
    "def swapCertain(a,b):\n",
    "    n = len(a)\n",
    "    b.reverse()\n",
    "    for i in range(2):\n",
    "        a[i] = b[i]\n",
    "    return a"
   ]
  },
  {
   "cell_type": "code",
   "execution_count": 80,
   "id": "cb5d64f7",
   "metadata": {},
   "outputs": [
    {
     "name": "stdout",
     "output_type": "stream",
     "text": [
      "[500, 400, 30, 40, 50]\n"
     ]
    }
   ],
   "source": [
    "print(swapCertain(a,b))"
   ]
  },
  {
   "cell_type": "code",
   "execution_count": null,
   "id": "65514a37",
   "metadata": {},
   "outputs": [],
   "source": []
  }
 ],
 "metadata": {
  "kernelspec": {
   "display_name": "Python 3 (ipykernel)",
   "language": "python",
   "name": "python3"
  },
  "language_info": {
   "codemirror_mode": {
    "name": "ipython",
    "version": 3
   },
   "file_extension": ".py",
   "mimetype": "text/x-python",
   "name": "python",
   "nbconvert_exporter": "python",
   "pygments_lexer": "ipython3",
   "version": "3.9.12"
  }
 },
 "nbformat": 4,
 "nbformat_minor": 5
}
